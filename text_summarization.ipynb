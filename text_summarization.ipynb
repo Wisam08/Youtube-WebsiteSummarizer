{
 "cells": [
  {
   "cell_type": "code",
   "execution_count": 1,
   "metadata": {},
   "outputs": [
    {
     "name": "stdout",
     "output_type": "stream",
     "text": [
      "Package                                  Version\n",
      "---------------------------------------- -----------\n",
      "aiohappyeyeballs                         2.4.3\n",
      "aiohttp                                  3.11.8\n",
      "aiosignal                                1.3.1\n",
      "altair                                   5.5.0\n",
      "annotated-types                          0.7.0\n",
      "anyio                                    4.6.2.post1\n",
      "arxiv                                    2.1.3\n",
      "asgiref                                  3.8.1\n",
      "asttokens                                3.0.0\n",
      "async-timeout                            4.0.3\n",
      "attrs                                    24.2.0\n",
      "backoff                                  2.2.1\n",
      "bcrypt                                   4.2.1\n",
      "beautifulsoup4                           4.12.3\n",
      "blinker                                  1.9.0\n",
      "bs4                                      0.0.2\n",
      "build                                    1.2.2.post1\n",
      "cachetools                               5.5.0\n",
      "certifi                                  2024.8.30\n",
      "charset-normalizer                       3.4.0\n",
      "chroma-hnswlib                           0.7.6\n",
      "chromadb                                 0.5.21\n",
      "click                                    8.1.7\n",
      "coloredlogs                              15.0.1\n",
      "comm                                     0.2.2\n",
      "dataclasses-json                         0.6.7\n",
      "debugpy                                  1.8.9\n",
      "decorator                                5.1.1\n",
      "Deprecated                               1.2.15\n",
      "distro                                   1.9.0\n",
      "duckduckgo_search                        6.4.1\n",
      "durationpy                               0.9\n",
      "exceptiongroup                           1.2.2\n",
      "executing                                2.1.0\n",
      "faiss-cpu                                1.9.0.post1\n",
      "fastapi                                  0.115.5\n",
      "feedparser                               6.0.11\n",
      "filelock                                 3.16.1\n",
      "flatbuffers                              24.3.25\n",
      "frozenlist                               1.5.0\n",
      "fsspec                                   2024.10.0\n",
      "gitdb                                    4.0.11\n",
      "GitPython                                3.1.43\n",
      "google-auth                              2.36.0\n",
      "googleapis-common-protos                 1.66.0\n",
      "greenlet                                 3.1.1\n",
      "groq                                     0.13.0\n",
      "grpcio                                   1.68.1\n",
      "h11                                      0.14.0\n",
      "httpcore                                 1.0.7\n",
      "httptools                                0.6.4\n",
      "httpx                                    0.27.2\n",
      "httpx-sse                                0.4.0\n",
      "huggingface-hub                          0.26.3\n",
      "humanfriendly                            10.0\n",
      "idna                                     3.10\n",
      "importlib_metadata                       8.5.0\n",
      "importlib_resources                      6.4.5\n",
      "ipykernel                                6.29.5\n",
      "ipython                                  8.30.0\n",
      "jedi                                     0.19.2\n",
      "Jinja2                                   3.1.4\n",
      "jiter                                    0.8.0\n",
      "joblib                                   1.4.2\n",
      "jsonpatch                                1.33\n",
      "jsonpointer                              3.0.0\n",
      "jsonschema                               4.23.0\n",
      "jsonschema-specifications                2024.10.1\n",
      "jupyter_client                           8.6.3\n",
      "jupyter_core                             5.7.2\n",
      "kubernetes                               31.0.0\n",
      "langchain                                0.3.9\n",
      "langchain-chroma                         0.1.4\n",
      "langchain-community                      0.3.8\n",
      "langchain-core                           0.3.21\n",
      "langchain-groq                           0.2.1\n",
      "langchain-huggingface                    0.1.2\n",
      "langchain-ollama                         0.2.1\n",
      "langchain-openai                         0.2.11\n",
      "langchain-text-splitters                 0.3.2\n",
      "langserve                                0.3.0\n",
      "langsmith                                0.1.147\n",
      "markdown-it-py                           3.0.0\n",
      "MarkupSafe                               3.0.2\n",
      "marshmallow                              3.23.1\n",
      "matplotlib-inline                        0.1.7\n",
      "mdurl                                    0.1.2\n",
      "mmh3                                     5.0.1\n",
      "monotonic                                1.6\n",
      "mpmath                                   1.3.0\n",
      "multidict                                6.1.0\n",
      "mypy-extensions                          1.0.0\n",
      "narwhals                                 1.15.2\n",
      "nest-asyncio                             1.6.0\n",
      "networkx                                 3.4.2\n",
      "numpy                                    1.26.4\n",
      "nvidia-cublas-cu12                       12.4.5.8\n",
      "nvidia-cuda-cupti-cu12                   12.4.127\n",
      "nvidia-cuda-nvrtc-cu12                   12.4.127\n",
      "nvidia-cuda-runtime-cu12                 12.4.127\n",
      "nvidia-cudnn-cu12                        9.1.0.70\n",
      "nvidia-cufft-cu12                        11.2.1.3\n",
      "nvidia-curand-cu12                       10.3.5.147\n",
      "nvidia-cusolver-cu12                     11.6.1.9\n",
      "nvidia-cusparse-cu12                     12.3.1.170\n",
      "nvidia-nccl-cu12                         2.21.5\n",
      "nvidia-nvjitlink-cu12                    12.4.127\n",
      "nvidia-nvtx-cu12                         12.4.127\n",
      "oauthlib                                 3.2.2\n",
      "ollama                                   0.4.2\n",
      "onnxruntime                              1.20.1\n",
      "openai                                   1.56.0\n",
      "opentelemetry-api                        1.28.2\n",
      "opentelemetry-exporter-otlp-proto-common 1.28.2\n",
      "opentelemetry-exporter-otlp-proto-grpc   1.28.2\n",
      "opentelemetry-instrumentation            0.49b2\n",
      "opentelemetry-instrumentation-asgi       0.49b2\n",
      "opentelemetry-instrumentation-fastapi    0.49b2\n",
      "opentelemetry-proto                      1.28.2\n",
      "opentelemetry-sdk                        1.28.2\n",
      "opentelemetry-semantic-conventions       0.49b2\n",
      "opentelemetry-util-http                  0.49b2\n",
      "orjson                                   3.10.12\n",
      "overrides                                7.7.0\n",
      "packaging                                24.2\n",
      "pandas                                   2.2.3\n",
      "parso                                    0.8.4\n",
      "pexpect                                  4.9.0\n",
      "pillow                                   11.0.0\n",
      "pip                                      24.2\n",
      "platformdirs                             4.3.6\n",
      "posthog                                  3.7.4\n",
      "primp                                    0.8.3\n",
      "prompt_toolkit                           3.0.48\n",
      "propcache                                0.2.0\n",
      "protobuf                                 5.29.0\n",
      "psutil                                   6.1.0\n",
      "ptyprocess                               0.7.0\n",
      "pure_eval                                0.2.3\n",
      "pyarrow                                  18.1.0\n",
      "pyasn1                                   0.6.1\n",
      "pyasn1_modules                           0.4.1\n",
      "pydantic                                 2.10.2\n",
      "pydantic_core                            2.27.1\n",
      "pydantic-settings                        2.6.1\n",
      "pydeck                                   0.9.1\n",
      "Pygments                                 2.18.0\n",
      "PyMuPDF                                  1.24.14\n",
      "pypdf                                    5.1.0\n",
      "PyPika                                   0.48.9\n",
      "pyproject_hooks                          1.2.0\n",
      "python-dateutil                          2.9.0.post0\n",
      "python-dotenv                            1.0.1\n",
      "pytz                                     2024.2\n",
      "PyYAML                                   6.0.2\n",
      "pyzmq                                    26.2.0\n",
      "referencing                              0.35.1\n",
      "regex                                    2024.11.6\n",
      "requests                                 2.32.3\n",
      "requests-oauthlib                        2.0.0\n",
      "requests-toolbelt                        1.0.0\n",
      "rich                                     13.9.4\n",
      "rpds-py                                  0.22.1\n",
      "rsa                                      4.9\n",
      "safetensors                              0.4.5\n",
      "scikit-learn                             1.5.2\n",
      "scipy                                    1.14.1\n",
      "sentence-transformers                    3.3.1\n",
      "setuptools                               75.1.0\n",
      "sgmllib3k                                1.0.0\n",
      "shellingham                              1.5.4\n",
      "six                                      1.16.0\n",
      "smmap                                    5.0.1\n",
      "sniffio                                  1.3.1\n",
      "soupsieve                                2.6\n",
      "SQLAlchemy                               2.0.35\n",
      "sse-starlette                            2.1.3\n",
      "stack-data                               0.6.3\n",
      "starlette                                0.41.3\n",
      "streamlit                                1.40.2\n",
      "sympy                                    1.13.1\n",
      "tenacity                                 9.0.0\n",
      "threadpoolctl                            3.5.0\n",
      "tiktoken                                 0.8.0\n",
      "tokenizers                               0.20.3\n",
      "toml                                     0.10.2\n",
      "tomli                                    2.2.1\n",
      "torch                                    2.5.1\n",
      "tornado                                  6.4.2\n",
      "tqdm                                     4.67.1\n",
      "traitlets                                5.14.3\n",
      "transformers                             4.46.3\n",
      "triton                                   3.1.0\n",
      "typer                                    0.14.0\n",
      "typing_extensions                        4.12.2\n",
      "typing-inspect                           0.9.0\n",
      "tzdata                                   2024.2\n",
      "urllib3                                  2.2.3\n",
      "uvicorn                                  0.32.1\n",
      "uvloop                                   0.21.0\n",
      "watchdog                                 6.0.0\n",
      "watchfiles                               1.0.0\n",
      "wcwidth                                  0.2.13\n",
      "websocket-client                         1.8.0\n",
      "websockets                               14.1\n",
      "wheel                                    0.44.0\n",
      "wikipedia                                1.4.0\n",
      "wrapt                                    1.17.0\n",
      "yarl                                     1.18.0\n",
      "zipp                                     3.21.0\n"
     ]
    }
   ],
   "source": [
    "!pip list"
   ]
  },
  {
   "cell_type": "code",
   "execution_count": 3,
   "metadata": {},
   "outputs": [
    {
     "data": {
      "text/plain": [
       "True"
      ]
     },
     "execution_count": 3,
     "metadata": {},
     "output_type": "execute_result"
    }
   ],
   "source": [
    "import os\n",
    "from dotenv import load_dotenv\n",
    "load_dotenv()"
   ]
  },
  {
   "cell_type": "code",
   "execution_count": 11,
   "metadata": {},
   "outputs": [
    {
     "data": {
      "text/plain": [
       "ChatGroq(client=<groq.resources.chat.completions.Completions object at 0x78034a5b1d80>, async_client=<groq.resources.chat.completions.AsyncCompletions object at 0x78034a5b2d10>, model_name='Gemma2-9b-It', model_kwargs={}, groq_api_key=SecretStr('**********'))"
      ]
     },
     "execution_count": 11,
     "metadata": {},
     "output_type": "execute_result"
    }
   ],
   "source": [
    "from langchain_groq import ChatGroq\n",
    "api_key = os.getenv(\"GROQ_API_KEY\")\n",
    "llm = ChatGroq(api_key=api_key, model=\"Gemma2-9b-It\")\n",
    "llm"
   ]
  },
  {
   "cell_type": "code",
   "execution_count": 16,
   "metadata": {},
   "outputs": [],
   "source": [
    "from langchain.schema import (\n",
    "    AIMessage,\n",
    "    HumanMessage,SystemMessage\n",
    ")"
   ]
  },
  {
   "cell_type": "code",
   "execution_count": 17,
   "metadata": {},
   "outputs": [],
   "source": [
    "speech = \"\"\"\n",
    "Good evening, everyone. Today, I want to talk about the importance of technology in improving human lives, focusing on artificial intelligence. Over the past decade, AI has transformed various industries, from healthcare to finance, education, and transportation.\n",
    "\n",
    "One key area where AI has made a significant impact is healthcare, where it assists in early diagnosis, personalized treatment, and efficient resource allocation. For example, AI-powered systems can analyze medical imaging to detect conditions like cancer or autism in their early stages, potentially saving countless lives.\n",
    "\n",
    "Another crucial application is in education. With adaptive learning systems, AI tailors educational content to individual learners, making education more inclusive and effective. Similarly, in finance, AI enables fraud detection, predictive analytics, and personalized financial advice.\n",
    "\n",
    "However, while AI offers immense opportunities, it also raises ethical concerns, including data privacy, bias in algorithms, and the need for transparency. To ensure AI benefits society as a whole, it’s crucial to prioritize responsible development and use.\n",
    "\n",
    "In summary, AI is a powerful tool that can shape our future positively if we embrace innovation responsibly and address the challenges it brings. Let’s work together to create an equitable and sustainable future with AI.\n",
    "\"\"\""
   ]
  },
  {
   "cell_type": "code",
   "execution_count": 18,
   "metadata": {},
   "outputs": [
    {
     "data": {
      "text/plain": [
       "'\\nGood evening, everyone. Today, I want to talk about the importance of technology in improving human lives, focusing on artificial intelligence. Over the past decade, AI has transformed various industries, from healthcare to finance, education, and transportation.\\n\\nOne key area where AI has made a significant impact is healthcare, where it assists in early diagnosis, personalized treatment, and efficient resource allocation. For example, AI-powered systems can analyze medical imaging to detect conditions like cancer or autism in their early stages, potentially saving countless lives.\\n\\nAnother crucial application is in education. With adaptive learning systems, AI tailors educational content to individual learners, making education more inclusive and effective. Similarly, in finance, AI enables fraud detection, predictive analytics, and personalized financial advice.\\n\\nHowever, while AI offers immense opportunities, it also raises ethical concerns, including data privacy, bias in algorithms, and the need for transparency. To ensure AI benefits society as a whole, it’s crucial to prioritize responsible development and use.\\n\\nIn summary, AI is a powerful tool that can shape our future positively if we embrace innovation responsibly and address the challenges it brings. Let’s work together to create an equitable and sustainable future with AI.\\n'"
      ]
     },
     "execution_count": 18,
     "metadata": {},
     "output_type": "execute_result"
    }
   ],
   "source": [
    "speech"
   ]
  },
  {
   "cell_type": "code",
   "execution_count": 23,
   "metadata": {},
   "outputs": [],
   "source": [
    "chat_message=[\n",
    "    SystemMessage(content=\"You are an expert with expertise in summarizing speeches\"),\n",
    "    HumanMessage(content=f\"Please provide a short and concise summary of the following speech:\\n Text:{speech}\")\n",
    "]"
   ]
  },
  {
   "cell_type": "code",
   "execution_count": 20,
   "metadata": {},
   "outputs": [
    {
     "data": {
      "text/plain": [
       "250"
      ]
     },
     "execution_count": 20,
     "metadata": {},
     "output_type": "execute_result"
    }
   ],
   "source": [
    "llm.get_num_tokens(speech)"
   ]
  },
  {
   "cell_type": "code",
   "execution_count": null,
   "metadata": {},
   "outputs": [
    {
     "data": {
      "text/plain": [
       "AIMessage(content='This speech emphasizes the transformative potential of artificial intelligence (AI) across various sectors like healthcare, education, and finance. \\n\\nAI is highlighted for its ability to improve early diagnosis, personalize learning experiences, and enhance financial services.  However, the speaker also acknowledges the ethical challenges posed by AI, such as data privacy, algorithmic bias, and the need for transparency.  \\n\\nThe speech concludes with a call for responsible development and use of AI to ensure its benefits are shared equitably by all. \\n', additional_kwargs={}, response_metadata={'token_usage': {'completion_tokens': 103, 'prompt_tokens': 277, 'total_tokens': 380, 'completion_time': 0.187272727, 'prompt_time': 0.014915296, 'queue_time': 0.022866203, 'total_time': 0.202188023}, 'model_name': 'Gemma2-9b-It', 'system_fingerprint': 'fp_10c08bf97d', 'finish_reason': 'stop', 'logprobs': None}, id='run-4ad325ca-bb3d-4252-828d-9f5c2e047466-0', usage_metadata={'input_tokens': 277, 'output_tokens': 103, 'total_tokens': 380})"
      ]
     },
     "execution_count": 24,
     "metadata": {},
     "output_type": "execute_result"
    }
   ],
   "source": [
    "## getting the summary\n",
    "llm(chat_message)"
   ]
  },
  {
   "cell_type": "markdown",
   "metadata": {},
   "source": [
    "## Prompt Template Text Summarizaion"
   ]
  },
  {
   "cell_type": "code",
   "execution_count": 25,
   "metadata": {},
   "outputs": [
    {
     "data": {
      "text/plain": [
       "PromptTemplate(input_variables=['language', 'speech'], input_types={}, partial_variables={}, template='\\nWrite a summary of the following speech:\\nSpeech:{speech}\\nTranslate the precise summary to {language}\\n')"
      ]
     },
     "execution_count": 25,
     "metadata": {},
     "output_type": "execute_result"
    }
   ],
   "source": [
    "from langchain.chains import LLMChain\n",
    "from langchain import PromptTemplate\n",
    "\n",
    "generic_template=\"\"\"\n",
    "Write a summary of the following speech:\n",
    "Speech:{speech}\n",
    "Translate the precise summary to {language}\n",
    "\"\"\"\n",
    "\n",
    "prompt = PromptTemplate(\n",
    "    input_variables=['speech','language'],\n",
    "    template=generic_template\n",
    "\n",
    ")\n",
    "prompt"
   ]
  },
  {
   "cell_type": "code",
   "execution_count": 26,
   "metadata": {},
   "outputs": [
    {
     "data": {
      "text/plain": [
       "'\\nWrite a summary of the following speech:\\nSpeech:\\nGood evening, everyone. Today, I want to talk about the importance of technology in improving human lives, focusing on artificial intelligence. Over the past decade, AI has transformed various industries, from healthcare to finance, education, and transportation.\\n\\nOne key area where AI has made a significant impact is healthcare, where it assists in early diagnosis, personalized treatment, and efficient resource allocation. For example, AI-powered systems can analyze medical imaging to detect conditions like cancer or autism in their early stages, potentially saving countless lives.\\n\\nAnother crucial application is in education. With adaptive learning systems, AI tailors educational content to individual learners, making education more inclusive and effective. Similarly, in finance, AI enables fraud detection, predictive analytics, and personalized financial advice.\\n\\nHowever, while AI offers immense opportunities, it also raises ethical concerns, including data privacy, bias in algorithms, and the need for transparency. To ensure AI benefits society as a whole, it’s crucial to prioritize responsible development and use.\\n\\nIn summary, AI is a powerful tool that can shape our future positively if we embrace innovation responsibly and address the challenges it brings. Let’s work together to create an equitable and sustainable future with AI.\\n\\nTranslate the precise summary to French\\n'"
      ]
     },
     "execution_count": 26,
     "metadata": {},
     "output_type": "execute_result"
    }
   ],
   "source": [
    "complete_prompt = prompt.format(speech=speech, language=\"French\")\n",
    "complete_prompt"
   ]
  },
  {
   "cell_type": "code",
   "execution_count": 27,
   "metadata": {},
   "outputs": [
    {
     "data": {
      "text/plain": [
       "272"
      ]
     },
     "execution_count": 27,
     "metadata": {},
     "output_type": "execute_result"
    }
   ],
   "source": [
    "llm.get_num_tokens(complete_prompt)"
   ]
  },
  {
   "cell_type": "code",
   "execution_count": 31,
   "metadata": {},
   "outputs": [
    {
     "data": {
      "text/plain": [
       "'## Speech Summary in Malayalam:\\n\\nഈ പ്രസംഗം, മനുഷ്യരുടെ ജീവിതം മെച്ചപ്പെടുത്തുന്നതിൽ ടെക്നോളജിയുടെ പ്രാധാന്യത്തെ, പ്രത്യേകിച്ച് ആർട്ടിഫിഷ്യൽ ഇंटലിജൻസെ (AI)  ചർച്ച ചെയ്യുന്നു. അവസാന പത്തു വർഷങ്ങളായി AI ഹെൽത്ത്\\u200cകെയർ, ധനകാര്യം, शिक्षा, ട്രാൻസ്പോർട്ട് തുടങ്ങിയ വിവിധ മേഖലകളിൽ മാറ്റങ്ങൾ വരുത്തിവന്നിട്ടുണ്ട്.\\n\\nഹെൽത്ത്\\u200cകെയറിൽ AI മുമ്പത്തെ അവസ്ഥയിൽ രോഗനിदान, വ്യക്തിगत ചികിത്സ,യും  ഉപയോഗം കാര്യക്ഷമമാക്കുന്നു. ഉദാഹരണമായി, AI-ശക്തമായ സിസ്റ്റങ്ങൾ രോഗങ്ങൾ പോലെയുള്ള കാൻസർ അല്ലെങ്കിൽ അറ്റിസം ആദ്യഘട്ടത്തിൽ കണ്ടെത്താൻ മെഡിക്കൽ ഇമേജിംഗ് വിശകലനം ചെയ്യുന്നു, അതായത് അനേകം ജീവൻ പാകാനുള്ള സാധ്യത.\\n\\nശिक्षണ രംഗത്തും AI  പഠിതാക്കളെ അനുസരിച്ച് പഠന പദപഥം പരിണതമാക്കുന്നു, അതുവഴി വിദ്യാഭ്യാസം  പരമാവധി ഉൾക്കൊള്ളുകയും  പ്രभावीമാക്കുകയും ചെയ്യുന്നു. മറ്റൊരു പ്രധാന പ്രയോഗം ധനകാര്യ മേഖലയിലാണ്, അവിടെ AI തട്ടിപ്പിന്റെ നിരീക്ഷണം, പ്രവചനാ വിശകലനം, and വ്യക്തിगत വ്യാപാര പരിശീലനം സാധ്യമാക്കുന്നു.\\n\\n\\nഎന്നിരുന്നാലും, AI അനേകം അവസരങ്ങൾ നൽകുന്നുണ്ടെങ്കിലും, डेटा പ്രിവേसी, ആൽഗോരിതങ്ങളിലെ 偏見, and മുഴുവൻ മേഖലയിലും വ്യക്തത എന്നിവ പോലുള്ള 倫理적 ചിന്തകളും ഉയരുന്നു. AI സമൂഹത്തിന്റെ ഗുണത്തിലേക്ക് ജീവിക്കുന്നുവെന്ന് ഉറപ്പ് വരുത്തുന്നതിന്, ഉത്തരവാദപരമായ വികസനവും ഉപയോഗവും മുൻഗണന നൽകേണ്ടത് ആവശ്യമാണ്.\\n\\n요약하자면, AI  우리가  സ്വീകരിക്കുകയും അതിന്റെ ആരോഗ്യകരമായ പ്രവർത്തനങ്ങളെയും അതിന്റെ പോരായ്മകളെയും പരിഹരിക്കുകയും ചെയ്യേണ്ടതുണ്ട്. AI  നിലപാടുകളിൽ സന്തുലനം നിലനിർത്തുന്നതിലൂടെ, ഒരു സമത്വപരവും 지속가능한തും 미래를  ഒരുക്കാം. \\n\\n\\n\\n\\n'"
      ]
     },
     "execution_count": 31,
     "metadata": {},
     "output_type": "execute_result"
    }
   ],
   "source": [
    "llm_chain = LLMChain(llm=llm,prompt=prompt)\n",
    "summary = llm_chain.run({'speech':speech,'language':'Malayalam'})\n",
    "summary"
   ]
  },
  {
   "cell_type": "markdown",
   "metadata": {},
   "source": [
    "## StuffDocumentationChain Text Summarization"
   ]
  },
  {
   "cell_type": "code",
   "execution_count": null,
   "metadata": {},
   "outputs": [],
   "source": []
  },
  {
   "cell_type": "code",
   "execution_count": null,
   "metadata": {},
   "outputs": [],
   "source": []
  }
 ],
 "metadata": {
  "kernelspec": {
   "display_name": "Python 3",
   "language": "python",
   "name": "python3"
  },
  "language_info": {
   "codemirror_mode": {
    "name": "ipython",
    "version": 3
   },
   "file_extension": ".py",
   "mimetype": "text/x-python",
   "name": "python",
   "nbconvert_exporter": "python",
   "pygments_lexer": "ipython3",
   "version": "3.10.0"
  }
 },
 "nbformat": 4,
 "nbformat_minor": 2
}
